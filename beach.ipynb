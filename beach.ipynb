{
 "cells": [
  {
   "cell_type": "code",
   "execution_count": 4,
   "metadata": {},
   "outputs": [],
   "source": [
    "import pandas as pd\n",
    "import cv2\n",
    "import numpy as np"
   ]
  },
  {
   "cell_type": "code",
   "execution_count": 5,
   "metadata": {},
   "outputs": [],
   "source": [
    "# Load images and CSV data\n",
    "csv_file = 'labels_2024-11-10-03-44-34.csv'\n",
    "image_folder = 'Images/'\n",
    "\n",
    "df = pd.read_csv(csv_file)"
   ]
  },
  {
   "cell_type": "code",
   "execution_count": 7,
   "metadata": {},
   "outputs": [
    {
     "data": {
      "text/html": [
       "<div>\n",
       "<style scoped>\n",
       "    .dataframe tbody tr th:only-of-type {\n",
       "        vertical-align: middle;\n",
       "    }\n",
       "\n",
       "    .dataframe tbody tr th {\n",
       "        vertical-align: top;\n",
       "    }\n",
       "\n",
       "    .dataframe thead th {\n",
       "        text-align: right;\n",
       "    }\n",
       "</style>\n",
       "<table border=\"1\" class=\"dataframe\">\n",
       "  <thead>\n",
       "    <tr style=\"text-align: right;\">\n",
       "      <th></th>\n",
       "      <th>Person</th>\n",
       "      <th>245</th>\n",
       "      <th>851</th>\n",
       "      <th>1660806000.jpg</th>\n",
       "      <th>1920</th>\n",
       "      <th>1080</th>\n",
       "    </tr>\n",
       "  </thead>\n",
       "  <tbody>\n",
       "    <tr>\n",
       "      <th>0</th>\n",
       "      <td>Person</td>\n",
       "      <td>154</td>\n",
       "      <td>785</td>\n",
       "      <td>1660806000.jpg</td>\n",
       "      <td>1920</td>\n",
       "      <td>1080</td>\n",
       "    </tr>\n",
       "    <tr>\n",
       "      <th>1</th>\n",
       "      <td>Person</td>\n",
       "      <td>474</td>\n",
       "      <td>584</td>\n",
       "      <td>1660806000.jpg</td>\n",
       "      <td>1920</td>\n",
       "      <td>1080</td>\n",
       "    </tr>\n",
       "    <tr>\n",
       "      <th>2</th>\n",
       "      <td>Person</td>\n",
       "      <td>498</td>\n",
       "      <td>582</td>\n",
       "      <td>1660806000.jpg</td>\n",
       "      <td>1920</td>\n",
       "      <td>1080</td>\n",
       "    </tr>\n",
       "    <tr>\n",
       "      <th>3</th>\n",
       "      <td>Person</td>\n",
       "      <td>632</td>\n",
       "      <td>553</td>\n",
       "      <td>1660806000.jpg</td>\n",
       "      <td>1920</td>\n",
       "      <td>1080</td>\n",
       "    </tr>\n",
       "    <tr>\n",
       "      <th>4</th>\n",
       "      <td>Person</td>\n",
       "      <td>658</td>\n",
       "      <td>565</td>\n",
       "      <td>1660806000.jpg</td>\n",
       "      <td>1920</td>\n",
       "      <td>1080</td>\n",
       "    </tr>\n",
       "  </tbody>\n",
       "</table>\n",
       "</div>"
      ],
      "text/plain": [
       "   Person  245  851  1660806000.jpg  1920  1080\n",
       "0  Person  154  785  1660806000.jpg  1920  1080\n",
       "1  Person  474  584  1660806000.jpg  1920  1080\n",
       "2  Person  498  582  1660806000.jpg  1920  1080\n",
       "3  Person  632  553  1660806000.jpg  1920  1080\n",
       "4  Person  658  565  1660806000.jpg  1920  1080"
      ]
     },
     "execution_count": 7,
     "metadata": {},
     "output_type": "execute_result"
    }
   ],
   "source": [
    "df.head()"
   ]
  },
  {
   "cell_type": "code",
   "execution_count": null,
   "metadata": {},
   "outputs": [],
   "source": [
    "def apply_clahe(image):\n",
    "    image_gray = cv2.cvtColor(image, cv2.COLOR_BGR2GRAY)\n",
    "    clahe = cv2.createCLAHE(clipLimit=2.0, tileGridSize=(8, 8))\n",
    "    return clahe.apply(image_gray)"
   ]
  },
  {
   "cell_type": "code",
   "execution_count": null,
   "metadata": {},
   "outputs": [],
   "source": [
    "def average_images(image_list):\n",
    "    avg_image = np.zeros_like(image_list[0], np.float32)\n",
    "    for img in image_list:\n",
    "        avg_image += img.astype(np.float32) / len(image_list)\n",
    "    return avg_image.astype(np.uint8)\n"
   ]
  },
  {
   "cell_type": "code",
   "execution_count": null,
   "metadata": {},
   "outputs": [],
   "source": [
    "def apply_edge_detection(image):\n",
    "    edges = cv2.Canny(image, 100, 200)\n",
    "    return edges\n"
   ]
  },
  {
   "cell_type": "code",
   "execution_count": null,
   "metadata": {},
   "outputs": [],
   "source": [
    "def compare_with_empty(image, empty_image):\n",
    "    return cv2.absdiff(image, empty_image)\n"
   ]
  },
  {
   "cell_type": "code",
   "execution_count": null,
   "metadata": {},
   "outputs": [],
   "source": [
    "def apply_morphological_operations(image):\n",
    "    kernel = np.ones((5,5), np.uint8)\n",
    "    opening = cv2.morphologyEx(image, cv2.MORPH_OPEN, kernel)\n",
    "    return opening\n"
   ]
  },
  {
   "cell_type": "code",
   "execution_count": null,
   "metadata": {},
   "outputs": [],
   "source": [
    "# Load and process images\n",
    "empty_image_list = [cv2.imread(f'{image_folder}{img_name}') for img_name in ['empty1.jpg', 'empty2.jpg', ...]]\n",
    "empty_image = average_images(empty_image_list)\n",
    "\n",
    "for _, row in df.iterrows():\n",
    "    image_path = f'{image_folder}{row[\"image name\"]}'\n",
    "    image = cv2.imread(image_path)\n",
    "    \n",
    "    image_clahe = apply_clahe(image)\n",
    "    image_edges = apply_edge_detection(image_clahe)\n",
    "    image_difference = compare_with_empty(image_edges, apply_edge_detection(apply_clahe(empty_image)))\n",
    "    image_morphed = apply_morphological_operations(image_difference)\n",
    "    \n",
    "    # Here, you can count contours or use further algorithms to count people.\n",
    "    contours, _ = cv2.findContours(image_morphed, cv2.RETR_EXTERNAL, cv2.CHAIN_APPROX_SIMPLE)\n",
    "    print(f'Counted people in {row[\"image name\"]}: {len(contours)}')\n"
   ]
  }
 ],
 "metadata": {
  "kernelspec": {
   "display_name": "cv",
   "language": "python",
   "name": "python3"
  },
  "language_info": {
   "codemirror_mode": {
    "name": "ipython",
    "version": 3
   },
   "file_extension": ".py",
   "mimetype": "text/x-python",
   "name": "python",
   "nbconvert_exporter": "python",
   "pygments_lexer": "ipython3",
   "version": "3.9.20"
  }
 },
 "nbformat": 4,
 "nbformat_minor": 2
}
